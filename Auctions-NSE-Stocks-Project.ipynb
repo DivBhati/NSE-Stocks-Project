{
 "cells": [
  {
   "cell_type": "code",
   "execution_count": null,
   "id": "e9e1c151",
   "metadata": {},
   "outputs": [],
   "source": [
    "\"\"\"\n",
    "This project's aim is to achieve marks in assesment, we are here not to disgrace any company.\n",
    "A flow concept is a quantity measured over a specific period.\n",
    "For example:- your pocket allowance is 1500 rupees, per month on which you will get 4% annual interest by the bank. So, this value is a flow concept because they are measured over an hour, a month, an year.\n",
    "Thanks for Corportion.\n",
    "Owner:-  Divyansh Bhati\n",
    "Copyleft:- Divyansh Bhati\n",
    "\"\"\"\n",
    "# Noted that Stock Market is a flow concept."
   ]
  },
  {
   "cell_type": "code",
   "execution_count": null,
   "id": "46467c93",
   "metadata": {},
   "outputs": [],
   "source": [
    "import os\n",
    "import pandas as pd\n",
    "import numpy as np\n",
    "import urllib\n",
    "import matplotlib.pyplot as Mat"
   ]
  },
  {
   "cell_type": "code",
   "execution_count": null,
   "id": "f7df6c8e",
   "metadata": {},
   "outputs": [],
   "source": [
    "url = \"https://raw.githubusercontent.com/DivyanshAlSaud/NSE-Stocks-Project/main/Auction-Data-NSE.csv\"\n",
    "file_path = os.path.join(\"data\",\"Auctions Data\")"
   ]
  },
  {
   "cell_type": "code",
   "execution_count": null,
   "id": "a4c8bad4",
   "metadata": {},
   "outputs": [],
   "source": [
    "os.makedirs(file_path, exist_ok=True)\n",
    "csv_path = os.path.join(file_path,\"Auction-Data-NSE.csv\")\n",
    "urllib.request.urlretrieve(url,csv_path)"
   ]
  },
  {
   "cell_type": "code",
   "execution_count": null,
   "id": "7c1cfe3d",
   "metadata": {},
   "outputs": [],
   "source": [
    "DataA = pd.read_csv(csv_path)"
   ]
  },
  {
   "cell_type": "code",
   "execution_count": null,
   "id": "ccb94502",
   "metadata": {},
   "outputs": [],
   "source": [
    "DataA"
   ]
  },
  {
   "cell_type": "code",
   "execution_count": null,
   "id": "644d541f",
   "metadata": {},
   "outputs": [],
   "source": [
    "Index = DataA.index\n",
    "Index"
   ]
  },
  {
   "cell_type": "code",
   "execution_count": null,
   "id": "140bda74",
   "metadata": {},
   "outputs": [],
   "source": [
    "Column = DataA.columns\n",
    "Column"
   ]
  },
  {
   "cell_type": "code",
   "execution_count": null,
   "id": "af07873f",
   "metadata": {},
   "outputs": [],
   "source": [
    "Index.values"
   ]
  },
  {
   "cell_type": "code",
   "execution_count": null,
   "id": "989bde11",
   "metadata": {},
   "outputs": [],
   "source": [
    "DataA.dtypes"
   ]
  },
  {
   "cell_type": "code",
   "execution_count": null,
   "id": "d7779511",
   "metadata": {},
   "outputs": [],
   "source": [
    "DataA.shape"
   ]
  },
  {
   "cell_type": "code",
   "execution_count": null,
   "id": "ebd861c8",
   "metadata": {},
   "outputs": [],
   "source": [
    "DataA.head(10)"
   ]
  },
  {
   "cell_type": "code",
   "execution_count": null,
   "id": "753abeb3",
   "metadata": {},
   "outputs": [],
   "source": [
    "DataA.tail(10)"
   ]
  },
  {
   "cell_type": "code",
   "execution_count": null,
   "id": "dc48ceb0",
   "metadata": {},
   "outputs": [],
   "source": [
    "DataA.info()"
   ]
  },
  {
   "cell_type": "code",
   "execution_count": null,
   "id": "fc0bc148",
   "metadata": {},
   "outputs": [],
   "source": [
    "DataA.describe()"
   ]
  },
  {
   "cell_type": "code",
   "execution_count": null,
   "id": "c35100f2",
   "metadata": {},
   "outputs": [],
   "source": [
    "DataA[\"Symbol\"]"
   ]
  },
  {
   "cell_type": "code",
   "execution_count": null,
   "id": "3a27cb8f",
   "metadata": {},
   "outputs": [],
   "source": [
    "# CheckOut this data on ` https://github.com/DivyanshAlSaud/NSE-Stocks-Project/blob/main/Auction-Data-NSE.csv `\n",
    "# Telegram @ARROWDIV\n",
    "# Divyansh Bhati"
   ]
  }
 ],
 "metadata": {
  "kernelspec": {
   "display_name": "Python 3",
   "language": "python",
   "name": "python3"
  },
  "language_info": {
   "codemirror_mode": {
    "name": "ipython",
    "version": 3
   },
   "file_extension": ".py",
   "mimetype": "text/x-python",
   "name": "python",
   "nbconvert_exporter": "python",
   "pygments_lexer": "ipython3",
   "version": "3.8.8"
  }
 },
 "nbformat": 4,
 "nbformat_minor": 5
}
